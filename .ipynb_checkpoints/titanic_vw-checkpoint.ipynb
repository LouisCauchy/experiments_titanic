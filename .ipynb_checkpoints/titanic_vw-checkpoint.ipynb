{
 "cells": [
  {
   "cell_type": "code",
   "execution_count": 1,
   "metadata": {
    "collapsed": true
   },
   "outputs": [],
   "source": [
    "import csv\n",
    "import re\n",
    "import pandas as pd\n",
    "import numpy as np"
   ]
  },
  {
   "cell_type": "code",
   "execution_count": 2,
   "metadata": {},
   "outputs": [
    {
     "ename": "NameError",
     "evalue": "name 'vw_line' is not defined",
     "output_type": "error",
     "traceback": [
      "\u001b[0;31m---------------------------------------------------------------------------\u001b[0m",
      "\u001b[0;31mNameError\u001b[0m                                 Traceback (most recent call last)",
      "\u001b[0;32m<ipython-input-2-b90a359c7f95>\u001b[0m in \u001b[0;36m<module>\u001b[0;34m()\u001b[0m\n\u001b[1;32m     15\u001b[0m                 \u001b[0mvw_line\u001b[0m \u001b[0;34m+=\u001b[0m \u001b[0;34m\"-1 '\"\u001b[0m\u001b[0;34m\u001b[0m\u001b[0m\n\u001b[1;32m     16\u001b[0m \u001b[0;34m\u001b[0m\u001b[0m\n\u001b[0;32m---> 17\u001b[0;31m         \u001b[0mvw_line\u001b[0m \u001b[0;34m+=\u001b[0m \u001b[0mstr\u001b[0m\u001b[0;34m(\u001b[0m\u001b[0mline\u001b[0m\u001b[0;34m[\u001b[0m\u001b[0;36m0\u001b[0m\u001b[0;34m]\u001b[0m\u001b[0;34m)\u001b[0m \u001b[0;34m+\u001b[0m \u001b[0;34m\" |f \"\u001b[0m\u001b[0;34m\u001b[0m\u001b[0m\n\u001b[0m\u001b[1;32m     18\u001b[0m         \u001b[0mvw_line\u001b[0m \u001b[0;34m+=\u001b[0m \u001b[0;34m\"passenger_class_\"\u001b[0m\u001b[0;34m+\u001b[0m\u001b[0mstr\u001b[0m\u001b[0;34m(\u001b[0m\u001b[0mline\u001b[0m\u001b[0;34m[\u001b[0m\u001b[0;36m2\u001b[0m\u001b[0;34m]\u001b[0m\u001b[0;34m)\u001b[0m\u001b[0;34m+\u001b[0m\u001b[0;34m\" \"\u001b[0m\u001b[0;34m\u001b[0m\u001b[0m\n\u001b[1;32m     19\u001b[0m \u001b[0;34m\u001b[0m\u001b[0m\n",
      "\u001b[0;31mNameError\u001b[0m: name 'vw_line' is not defined"
     ]
    }
   ],
   "source": [
    "i = 0\n",
    "\n",
    "def clean(s):\n",
    "    return \" \".join(re.findall(r'\\w+', s,flags = re.UNICODE | re.LOCALE)).lower()\n",
    "  \n",
    "with open(\"train.csv\", \"r\") as infile, open(\"train_titanic.vw\", \"wb\") as outfile:\n",
    "    reader = csv.reader(infile)\n",
    "    for line in reader:\n",
    "        i += 1\n",
    "        if i > 1:\n",
    "            vw_line = \"\"\n",
    "            if str(line[1]) == \"1\":\n",
    "                vw_line += \"1 '\"\n",
    "            else:\n",
    "                vw_line += \"-1 '\"\n",
    "        \n",
    "        vw_line += str(line[0]) + \" |f \"\n",
    "        vw_line += \"passenger_class_\"+str(line[2])+\" \"\n",
    "\n",
    "        vw_line += \"last_name_\" + clean(line[3].split(\",\")[0]).replace(\" \", \"_\") + \" \"\n",
    "        vw_line += \"title_\" + clean(line[3].split(\",\")[1]).split()[0] + \" \"\n",
    "        vw_line += \"sex_\" + clean(line[4]) + \" \"\n",
    "      \n",
    "        if len(str(line[5])) > 0:\n",
    "            vw_line += \"age:\" + str(line[5]) + \" \"\n",
    "        \n",
    "        vw_line += \"siblings_onboard:\" + str(line[6]) + \" \"\n",
    "        vw_line += \"family_members_onboard:\" + str(line[7]) + \" \"\n",
    "        vw_line += \"embarked_\" + str(line[11]) + \" \"\n",
    "      \n",
    "        outfile.write(vw_line[:-1] + \"\\n\")"
   ]
  },
  {
   "cell_type": "code",
   "execution_count": null,
   "metadata": {
    "collapsed": true
   },
   "outputs": [],
   "source": []
  }
 ],
 "metadata": {
  "kernelspec": {
   "display_name": "Python 3",
   "language": "python",
   "name": "python3"
  },
  "language_info": {
   "codemirror_mode": {
    "name": "ipython",
    "version": 3
   },
   "file_extension": ".py",
   "mimetype": "text/x-python",
   "name": "python",
   "nbconvert_exporter": "python",
   "pygments_lexer": "ipython3",
   "version": "3.6.1"
  }
 },
 "nbformat": 4,
 "nbformat_minor": 2
}
